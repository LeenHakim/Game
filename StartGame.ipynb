{
 "cells": [
  {
   "cell_type": "code",
   "execution_count": null,
   "metadata": {},
   "outputs": [
    {
     "name": "stdout",
     "output_type": "stream",
     "text": [
      "This is a survival zork game! your mission is to rescue a girl who has been missing!\n",
      " She is a pharmacist and she is from your village 'Easthaven'!\n",
      " She got lost in the forest while she was on her way to deliver medicine to the nearby village 'Northon' \n",
      " \n",
      "What is your name? \n",
      "x\n",
      "WELCOME x ! \n",
      "\n",
      "You will start with 100 HP and 12 hours to rescue the girl, good luck! \n",
      "\n",
      "Choose your weapon: Machete (1) \n",
      " or Gun (2) \n",
      " or Bow and arrow (3) ? \n",
      "2\n",
      "Now you have a gun in your inventory \n",
      "\n",
      "Choose your direction: East (1) \n",
      " or West (2)? \n",
      "3\n",
      "Invalid! Choose either 1 or 2!\n",
      "Choose your direction: East (1)  \n",
      " or West (2)? \n",
      "4\n",
      "Invalid! Choose either 1 or 2!\n",
      "Choose your direction: East (1)  \n",
      " or West (2)? \n",
      "2\n",
      "You have chosen West! This is a mesterious and dangerous path which nobody has crossed for ages! \n",
      "\n",
      "Now you have to go through a muddy flats whether you like or not.\n",
      " The mud is so deep that it tires you out causing you to lose 30% of hp and 2.5 hours of time.\n",
      "x has lost 30 HP!\n",
      "\n",
      "\n",
      "x has spent 2.50 hour of their time\n",
      "\n",
      "\n",
      "Would you like to rest? you will spend some time resting but it will be worth it! yes (1) \n",
      " or no (2)3\n",
      "Invalid! Choose either 1 or 2!\n",
      "Do you want to rest? yes (1) \n",
      " or no? (2)4\n",
      "Invalid! Choose either 1 or 2!\n"
     ]
    }
   ],
   "source": [
    "%run APC_Zork.ipynb\n",
    "start_game()"
   ]
  },
  {
   "cell_type": "markdown",
   "metadata": {},
   "source": [
    " "
   ]
  }
 ],
 "metadata": {
  "kernelspec": {
   "display_name": "Python 3",
   "language": "python",
   "name": "python3"
  },
  "language_info": {
   "codemirror_mode": {
    "name": "ipython",
    "version": 3
   },
   "file_extension": ".py",
   "mimetype": "text/x-python",
   "name": "python",
   "nbconvert_exporter": "python",
   "pygments_lexer": "ipython3",
   "version": "3.7.4"
  }
 },
 "nbformat": 4,
 "nbformat_minor": 2
}
